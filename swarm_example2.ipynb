{
 "cells": [
  {
   "cell_type": "code",
   "execution_count": 4,
   "metadata": {},
   "outputs": [],
   "source": [
    "import dotenv\n",
    "from openai import AzureOpenAI\n",
    "from swarm import Swarm, Agent\n",
    "import requests\n",
    "import sqlite3\n",
    "import re\n",
    "from tabulate import tabulate"
   ]
  },
  {
   "cell_type": "code",
   "execution_count": 2,
   "metadata": {},
   "outputs": [],
   "source": [
    "dotenv.load_dotenv()\n",
    "Azure_client = AzureOpenAI()\n",
    "client = Swarm(client=Azure_client)"
   ]
  },
  {
   "cell_type": "code",
   "execution_count": 7,
   "metadata": {},
   "outputs": [],
   "source": [
    "conn = sqlite3.connect(':memory:') # 创建内存数据库，不创建实际的数据库文件\n",
    "cursor = conn.cursor()\n",
    "cursor.execute('''\n",
    "CREATE TABLE employees (\n",
    "               id INTEGER PRIMARY KEY,\n",
    "               name TEXT,\n",
    "               department TEXT,\n",
    "               salary REAL\n",
    "               )\n",
    "               ''')\n",
    "# 插入20条示例数据\n",
    "employees = [\n",
    "    (1, '张伟', 'IT', 75000),\n",
    "    (2, '王芳', 'HR', 65000),\n",
    "    (3, '李斯', '销售', 80000),\n",
    "    (4, '赵辉', '市场', 70000),\n",
    "    (5, '陈明', 'IT', 72000),\n",
    "    (6, '杨丽', 'HR', 68000),\n",
    "    (7, '周浩', '销售', 82000),\n",
    "    (8, '吴娜', '市场', 71000),\n",
    "    (9, '刘洋', 'IT', 76000),\n",
    "    (10, '孙琳', 'HR', 67000),\n",
    "    (11, '朱峰', '销售', 81000),\n",
    "    (12, '徐婷', '市场', 72000),\n",
    "    (13, '郭震', 'IT', 74000),\n",
    "    (14, '马梅', 'HR', 66000),\n",
    "    (15, '胡勇', '销售', 83000),\n",
    "    (16, '林梅', '市场', 73000),\n",
    "    (17, '韩磊', 'IT', 77000),\n",
    "    (18, '董芳', 'HR', 69000),\n",
    "    (19, '萧峰', '销售', 84000),\n",
    "    (20, '沈丹', '市场', 74000)\n",
    "]\n",
    "\n",
    "cursor.executemany('INSERT INTO employees VALUES (?,?,?,?)', employees)\n",
    "# cursor.executemany('INSERT INTO employees (name, department, salary) VALUES (?, ?, ?)', employees)\n",
    "conn.commit()"
   ]
  },
  {
   "cell_type": "code",
   "execution_count": 11,
   "metadata": {},
   "outputs": [],
   "source": [
    "def instructions(context_variables):\n",
    "    return\"\"\"你是一个能够将中文自然语言查询转换为SQL查询的AI助手。\n",
    "    数据库有一个名为'employees'的表，包含以下列：id, name, department, salary。\n",
    "    只返回SQL查询，不要包含任何其他文本解释。支持复杂查询，如比较，排序和聚合函数。\n",
    "    \"\"\"\n",
    "\n",
    "def clean_sql_query(sql_query):\n",
    "    \"\"\"清理SQL查询，移除可能的Markdown格式和多余空白\"\"\"\n",
    "    print(sql_query)\n",
    "    cleaned = re.sub(r'```sql\\s*|\\s*```', '', sql_query).strip()\n",
    "    return cleaned\n",
    "\n",
    "def execute_sql(sql_query):\n",
    "    \"\"\"执行SQL查询并返回结果\"\"\"\n",
    "    try:\n",
    "        cursor.execute(sql_query)\n",
    "        results = cursor.fetchall()\n",
    "        return results\n",
    "    except sqlite3.Error as e:\n",
    "        return f\"SQL错误: {e}\"\n",
    "\n",
    "def explain_query(sql_query):\n",
    "    \"\"\"提供更具体的SQL查询解释\"\"\"\n",
    "    parts = sql_query.upper().split()\n",
    "    explanation = \"这个查询\"\n",
    "    \n",
    "    if 'SELECT' in parts:\n",
    "        select_index = parts.index('SELECT')\n",
    "        from_index = parts.index('FROM')\n",
    "        fields = ', '.join(parts[select_index+1:from_index]).lower()\n",
    "        table = parts[from_index+1].lower()\n",
    "        explanation += f\"从{table}表中获取{fields}\"\n",
    "    \n",
    "    if 'WHERE' in parts:\n",
    "        where_index = parts.index('WHERE')\n",
    "        condition = ' '.join(parts[where_index+1:]).lower()\n",
    "        explanation += f\"，条件是{condition}\"\n",
    "    \n",
    "    if 'ORDER BY' in parts:\n",
    "        order_index = parts.index('ORDER')\n",
    "        order = ' '.join(parts[order_index+2:]).lower()\n",
    "        explanation += f\"，结果按{order}排序\"\n",
    "    \n",
    "    if 'LIMIT' in parts:\n",
    "        limit_index = parts.index('LIMIT')\n",
    "        limit = parts[limit_index+1]\n",
    "        explanation += f\"，只显示前{limit}条结果\"\n",
    "    \n",
    "    return explanation + \"。\"\n",
    "\n",
    "def format_results(results, sql_query):\n",
    "    \"\"\"格式化查询结果，添加上下文和单位\"\"\"\n",
    "    if not results or len(results) == 0:\n",
    "        return \"没有找到匹配的结果。\"\n",
    "    \n",
    "    if isinstance(results, str):  # 错误消息\n",
    "        return results\n",
    "    \n",
    "    headers = [description[0] for description in cursor.description]\n",
    "    \n",
    "    # 为薪水添加单位\n",
    "    if 'salary' in headers:\n",
    "        salary_index = headers.index('salary')\n",
    "        results = [list(row) for row in results]\n",
    "        for row in results:\n",
    "            row[salary_index] = f\"{row[salary_index]}元\"\n",
    "    \n",
    "    formatted_results = tabulate(results, headers=headers, tablefmt=\"grid\")\n",
    "    \n",
    "    # 添加结果上下文\n",
    "    if len(results) == 1 and 'name' in headers and 'salary' in headers:\n",
    "        name_index = headers.index('name')\n",
    "        salary_index = headers.index('salary')\n",
    "        context = f\"{results[0][name_index]}的薪水是{results[0][salary_index]}\"\n",
    "        return f\"{context}\\n\\n{formatted_results}\"\n",
    "    \n",
    "    return formatted_results"
   ]
  },
  {
   "cell_type": "code",
   "execution_count": 12,
   "metadata": {},
   "outputs": [],
   "source": [
    "agent = Agent(\n",
    "    name=\"SQLAgent\",\n",
    "    instructions=instructions,\n",
    ")\n",
    "\n",
    "def process_query(natural_language_query):\n",
    "    \"\"\"处理自然语言查询，转换为SQL，执行并返回结果\"\"\"\n",
    "    # 使用 Swarm 将自然语言转换为 SQL\n",
    "    response = client.run(\n",
    "        messages=[{\"role\": \"user\", \"content\": natural_language_query}],\n",
    "        agent=agent,\n",
    "    )\n",
    "    sql_query = clean_sql_query(response.messages[-1][\"content\"])\n",
    "    \n",
    "    # 执行 SQL 查询\n",
    "    results = execute_sql(sql_query)\n",
    "    \n",
    "    # 获取查询解释\n",
    "    explanation = explain_query(sql_query)\n",
    "    \n",
    "    # 格式化结果\n",
    "    formatted_results = format_results(results, sql_query)\n",
    "    \n",
    "    return f\"SQL查询: {sql_query}\\n解释: {explanation}\\n结果:\\n{formatted_results}\"\n"
   ]
  },
  {
   "cell_type": "code",
   "execution_count": 13,
   "metadata": {},
   "outputs": [
    {
     "name": "stdout",
     "output_type": "stream",
     "text": [
      "```sql\n",
      "SELECT * FROM employees WHERE name = '张伟';\n",
      "```\n"
     ]
    },
    {
     "data": {
      "text/plain": [
       "\"SQL查询: SELECT * FROM employees WHERE name = '张伟';\\n解释: 这个查询从employees表中获取*，条件是name = '张伟';。\\n结果:\\n张伟的薪水是75000.0元\\n\\n+------+--------+--------------+-----------+\\n|   id | name   | department   | salary    |\\n+======+========+==============+===========+\\n|    1 | 张伟   | IT           | 75000.0元 |\\n+------+--------+--------------+-----------+\""
      ]
     },
     "execution_count": 13,
     "metadata": {},
     "output_type": "execute_result"
    }
   ],
   "source": [
    "process_query(\"获取张伟的信息\")"
   ]
  },
  {
   "cell_type": "code",
   "execution_count": null,
   "metadata": {},
   "outputs": [],
   "source": []
  },
  {
   "cell_type": "code",
   "execution_count": null,
   "metadata": {},
   "outputs": [],
   "source": [
    "print(\"欢迎使用text to SQL系统！代码由AI超元域原创\")\n",
    "print(\"输入 'exit' 或 'quit' 退出程序。\")\n",
    "print(\"本系统支持复杂查询，如比较、排序和聚合函数。\")\n",
    "\n",
    "while True:\n",
    "    user_input = input(\"\\n请输入您的查询 (或 'exit' 退出): \")\n",
    "    if user_input.lower() in ['exit', 'quit']:\n",
    "        print(\"谢谢使用，再见！\")\n",
    "        break\n",
    "    \n",
    "    print(process_query(user_input))\n",
    "\n",
    "# 关闭数据库连接\n",
    "# conn.close()"
   ]
  }
 ],
 "metadata": {
  "kernelspec": {
   "display_name": "Python 3",
   "language": "python",
   "name": "python3"
  },
  "language_info": {
   "codemirror_mode": {
    "name": "ipython",
    "version": 3
   },
   "file_extension": ".py",
   "mimetype": "text/x-python",
   "name": "python",
   "nbconvert_exporter": "python",
   "pygments_lexer": "ipython3",
   "version": "3.12.8"
  }
 },
 "nbformat": 4,
 "nbformat_minor": 2
}
