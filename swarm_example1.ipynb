{
 "cells": [
  {
   "cell_type": "code",
   "execution_count": 2,
   "metadata": {},
   "outputs": [],
   "source": [
    "import dotenv\n",
    "from openai import AzureOpenAI\n",
    "from swarm import Swarm, Agent\n",
    "import requests"
   ]
  },
  {
   "cell_type": "code",
   "execution_count": 5,
   "metadata": {},
   "outputs": [],
   "source": [
    "def get_weather(latitude: float, longitude: float) -> str:\n",
    "    \"\"\"\n",
    "    使用Open-Meteo API获取给定坐标的当前天气。\n",
    "\n",
    "    参数:\n",
    "    latitude (float): 纬度\n",
    "    longitude (float): 经度\n",
    "\n",
    "    返回:\n",
    "    str: 包含当前温度和风速的天气信息JSON字符串\n",
    "    \"\"\"\n",
    "    url = f\"https://api.open-meteo.com/v1/forecast?latitude={latitude}&longitude={longitude}&current=temperature_2m,wind_speed_10m\"\n",
    "    \n",
    "    response = requests.get(url)\n",
    "    if response.status_code == 200:\n",
    "        data = response.json()\n",
    "        current = data['current']\n",
    "        return str(current)  # 返回JSON字符串\n",
    "    else:\n",
    "        return '{\"error\": \"无法获取天气数据\"}'\n",
    "\n",
    "def get_coordinates(location: str) -> str:\n",
    "    \"\"\"\n",
    "    获取给定位置名称的坐标。\n",
    "\n",
    "    参数:\n",
    "    location (str): 位置名称\n",
    "\n",
    "    返回:\n",
    "    str: 包含纬度和经度的JSON字符串\n",
    "    \"\"\"\n",
    "    coordinates = {\n",
    "        \"纽约\": (40.7128, -74.0060),\n",
    "        \"伦敦\": (51.5074, -0.1278),\n",
    "        \"东京\": (35.6762, 139.6503),\n",
    "        \"巴黎\": (48.8566, 2.3522),\n",
    "        \"柏林\": (52.5200, 13.4050)\n",
    "    }\n",
    "    lat, lon = coordinates.get(location.lower(), (0, 0))\n",
    "    return f'{{\"latitude\": {lat}, \"longitude\": {lon}}}'"
   ]
  },
  {
   "cell_type": "code",
   "execution_count": 3,
   "metadata": {},
   "outputs": [],
   "source": [
    "dotenv.load_dotenv()\n",
    "Azure_client = AzureOpenAI()\n",
    "client = Swarm(client=Azure_client)"
   ]
  },
  {
   "cell_type": "code",
   "execution_count": 7,
   "metadata": {},
   "outputs": [],
   "source": [
    "weather_agent = Agent(\n",
    "    name=\"天气助手\",\n",
    "    instructions=\"\"\"\n",
    "    你是一个由帮助的天气助手。当被问到特定位置的天气时：\n",
    "    1. 使用get_coordinates函数获取该位置的坐标。\n",
    "    2. 使用get_weather函数获取天气数据。\n",
    "    3. 解析返回的JSON数据，提供一个友好的回复，包含天气信息。\n",
    "    如果无法识别该位置，礼貌地通知用户并建议他们尝试一个主要城市。\n",
    "    \"\"\",\n",
    "    functions=[get_coordinates, get_weather],\n",
    ")\n",
    "\n",
    "def run_weather_query(query: str) -> str:\n",
    "    \"\"\"\n",
    "    运行天气查询并返回结果\n",
    "\n",
    "    参数：\n",
    "    query (str): 用户的天气查询\n",
    "\n",
    "    返回:\n",
    "    str: Agent的响应\n",
    "    \"\"\"\n",
    "    messages = [{\"role\":'user', \"content\": query}]\n",
    "    response = client.run(agent=weather_agent, messages=messages)\n",
    "    return response.messages[-1][\"content\"]"
   ]
  },
  {
   "cell_type": "code",
   "execution_count": 8,
   "metadata": {},
   "outputs": [
    {
     "name": "stdout",
     "output_type": "stream",
     "text": [
      "纽约现在的天气温度为-3.3°C，风速为7.8m/s。注意保暖哦！如果有进一步的计划，注意查看最新的天气预报以做好准备。\n"
     ]
    }
   ],
   "source": [
    "print(run_weather_query(\"纽约的天气怎么样？\"))"
   ]
  },
  {
   "cell_type": "code",
   "execution_count": 9,
   "metadata": {},
   "outputs": [
    {
     "name": "stdout",
     "output_type": "stream",
     "text": [
      "我无法识别乌兰察布这个位置。请您尝试输入一个主要城市的名称，以便我为您提供准确的天气信息。\n"
     ]
    }
   ],
   "source": [
    "print(run_weather_query(\"乌兰察布的天气怎么样？\"))"
   ]
  }
 ],
 "metadata": {
  "kernelspec": {
   "display_name": "Python 3",
   "language": "python",
   "name": "python3"
  },
  "language_info": {
   "codemirror_mode": {
    "name": "ipython",
    "version": 3
   },
   "file_extension": ".py",
   "mimetype": "text/x-python",
   "name": "python",
   "nbconvert_exporter": "python",
   "pygments_lexer": "ipython3",
   "version": "3.12.8"
  }
 },
 "nbformat": 4,
 "nbformat_minor": 2
}
