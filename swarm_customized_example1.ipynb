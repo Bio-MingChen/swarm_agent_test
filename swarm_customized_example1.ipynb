{
 "cells": [
  {
   "cell_type": "code",
   "execution_count": 22,
   "metadata": {},
   "outputs": [],
   "source": [
    "import dotenv\n",
    "from openai import AzureOpenAI\n",
    "from swarm import Swarm, Agent\n",
    "import json\n",
    "import re"
   ]
  },
  {
   "cell_type": "code",
   "execution_count": 2,
   "metadata": {},
   "outputs": [],
   "source": [
    "dotenv.load_dotenv()\n",
    "Azure_client = AzureOpenAI()\n",
    "client = Swarm(client=Azure_client)"
   ]
  },
  {
   "cell_type": "code",
   "execution_count": 40,
   "metadata": {},
   "outputs": [],
   "source": [
    "def query_project_data(project_id:str):\n",
    "    \"\"\"\n",
    "    query project information by project_id\n",
    "    \"\"\"\n",
    "    print(f\"project id is {project_id}\")\n",
    "    # query\n",
    "    return {'project_name':'匿名项目','status':'running'}\n",
    "\n",
    "def format_msg(msg):\n",
    "    \"\"\"\n",
    "    format project info by fields in info_dict object\n",
    "    \"\"\"\n",
    "    msg_re = re.search(r\"```json([\\s\\S]+?)```\", msg,re.S)\n",
    "    print(msg_re)\n",
    "    if msg_re:\n",
    "        info_dict = json.loads(msg_re.group(1))\n",
    "        return f\"\"\"\n",
    "        Hi,xxx:\n",
    "        项目信息如下：\n",
    "\n",
    "        项目名称：{info_dict.get('project_name')}\n",
    "        项目状态：{info_dict.get('status')}\n",
    "        \n",
    "        祝好！\n",
    "        \"\"\"\n",
    "    else:\n",
    "        return \"\"\"未发现项目信息\"\"\"\n",
    "\n",
    "def send_email(msg):\n",
    "    \"\"\"\n",
    "    send email to notify\n",
    "    \"\"\"\n",
    "    print(msg)\n",
    "    return \"已发送\"\n",
    "\n",
    "query_agent = Agent(\n",
    "    name=\"项目信息查询\",\n",
    "    instructions=\"\"\"\n",
    "    你是一个项目信息查询助手，当被问到项目信息查询时：\n",
    "    使用query_project_data函数查询信息\n",
    "    直接返回结果的json格式，不要添加其他内容\n",
    "    \"\"\",\n",
    "    functions=[query_project_data],\n",
    ")\n",
    "\n",
    "def run_query_func(msg: str) -> str:\n",
    "    \"\"\"\n",
    "    查询项目信息并发送邮件\n",
    "    \"\"\"\n",
    "    messages = [{\"role\":'user', \"content\": msg}]\n",
    "    response = client.run(agent=query_agent, messages=messages)\n",
    "    msg = response.messages[-1][\"content\"]\n",
    "    print(msg)\n",
    "    formated_msg = format_msg(msg)\n",
    "    if formated_msg == \"未发现项目信息\":\n",
    "        return formated_msg\n",
    "    else:\n",
    "        resp = send_email(formated_msg)\n",
    "        print(resp)\n",
    "        return resp"
   ]
  },
  {
   "cell_type": "code",
   "execution_count": 41,
   "metadata": {},
   "outputs": [
    {
     "name": "stdout",
     "output_type": "stream",
     "text": [
      "project id is X101SCXXX-J001\n",
      "```json\n",
      "{\n",
      "    \"project_name\": \"匿名项目\",\n",
      "    \"status\": \"running\"\n",
      "}\n",
      "```\n",
      "<re.Match object; span=(0, 67), match='```json\\n{\\n    \"project_name\": \"匿名项目\",\\n    \"sta>\n",
      "\n",
      "        Hi,xxx:\n",
      "        项目信息如下：\n",
      "\n",
      "        项目名称：匿名项目\n",
      "        项目状态：running\n",
      "        \n",
      "        祝好！\n",
      "        \n",
      "已发送\n"
     ]
    },
    {
     "data": {
      "text/plain": [
       "'已发送'"
      ]
     },
     "execution_count": 41,
     "metadata": {},
     "output_type": "execute_result"
    }
   ],
   "source": [
    "run_query_func(\"查询一下项目X101SCXXX-J001的信息\")"
   ]
  }
 ],
 "metadata": {
  "kernelspec": {
   "display_name": "Python 3",
   "language": "python",
   "name": "python3"
  },
  "language_info": {
   "codemirror_mode": {
    "name": "ipython",
    "version": 3
   },
   "file_extension": ".py",
   "mimetype": "text/x-python",
   "name": "python",
   "nbconvert_exporter": "python",
   "pygments_lexer": "ipython3",
   "version": "3.12.8"
  }
 },
 "nbformat": 4,
 "nbformat_minor": 2
}
