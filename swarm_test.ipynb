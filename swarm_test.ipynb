{
 "cells": [
  {
   "cell_type": "code",
   "execution_count": 1,
   "metadata": {},
   "outputs": [],
   "source": [
    "import dotenv\n",
    "from openai import AzureOpenAI"
   ]
  },
  {
   "cell_type": "code",
   "execution_count": 10,
   "metadata": {},
   "outputs": [
    {
     "name": "stdout",
     "output_type": "stream",
     "text": [
      "你好！有什么我可以帮助你的吗？\n"
     ]
    }
   ],
   "source": [
    "dotenv.load_dotenv()\n",
    "\n",
    "client = AzureOpenAI()\n",
    "completion =client.chat.completions.create(\n",
    "model='gpt-4o',\n",
    "messages=[{'role': 'user', 'content':'你好'}]\n",
    ")\n",
    "\n",
    "print(completion.choices[0].message.content)"
   ]
  },
  {
   "cell_type": "code",
   "execution_count": 8,
   "metadata": {},
   "outputs": [
    {
     "name": "stdout",
     "output_type": "stream",
     "text": [
      "Collecting git+https://github.com/openai/swarm.git\n",
      "  Cloning https://github.com/openai/swarm.git to c:\\users\\administrator\\appdata\\local\\temp\\pip-req-build-lzrf9g1x\n",
      "  Resolved https://github.com/openai/swarm.git to commit 9db581cecaacea0d46a933d6453c312b034dbf47\n",
      "  Installing build dependencies: started\n",
      "  Installing build dependencies: finished with status 'done'\n",
      "  Getting requirements to build wheel: started\n",
      "  Getting requirements to build wheel: finished with status 'done'\n",
      "  Preparing metadata (pyproject.toml): started\n",
      "  Preparing metadata (pyproject.toml): finished with status 'done'\n",
      "Requirement already satisfied: numpy in g:\\c_pan_copy_dir\\.conda\\envs\\scanpy_env\\lib\\site-packages (from swarm==0.1.0) (1.26.4)\n",
      "Requirement already satisfied: openai>=1.33.0 in g:\\c_pan_copy_dir\\.conda\\envs\\scanpy_env\\lib\\site-packages (from swarm==0.1.0) (1.62.0)\n",
      "Requirement already satisfied: pytest in g:\\c_pan_copy_dir\\.conda\\envs\\scanpy_env\\lib\\site-packages (from swarm==0.1.0) (8.3.4)\n",
      "Requirement already satisfied: requests in g:\\c_pan_copy_dir\\.conda\\envs\\scanpy_env\\lib\\site-packages (from swarm==0.1.0) (2.32.3)\n",
      "Requirement already satisfied: tqdm in g:\\c_pan_copy_dir\\.conda\\envs\\scanpy_env\\lib\\site-packages (from swarm==0.1.0) (4.67.1)\n",
      "Requirement already satisfied: pre-commit in g:\\c_pan_copy_dir\\.conda\\envs\\scanpy_env\\lib\\site-packages (from swarm==0.1.0) (4.1.0)\n",
      "Requirement already satisfied: instructor in g:\\c_pan_copy_dir\\.conda\\envs\\scanpy_env\\lib\\site-packages (from swarm==0.1.0) (1.7.2)\n",
      "Requirement already satisfied: anyio<5,>=3.5.0 in g:\\c_pan_copy_dir\\.conda\\envs\\scanpy_env\\lib\\site-packages (from openai>=1.33.0->swarm==0.1.0) (4.8.0)\n",
      "Requirement already satisfied: distro<2,>=1.7.0 in g:\\c_pan_copy_dir\\.conda\\envs\\scanpy_env\\lib\\site-packages (from openai>=1.33.0->swarm==0.1.0) (1.9.0)\n",
      "Requirement already satisfied: httpx<1,>=0.23.0 in g:\\c_pan_copy_dir\\.conda\\envs\\scanpy_env\\lib\\site-packages (from openai>=1.33.0->swarm==0.1.0) (0.28.1)\n",
      "Requirement already satisfied: jiter<1,>=0.4.0 in g:\\c_pan_copy_dir\\.conda\\envs\\scanpy_env\\lib\\site-packages (from openai>=1.33.0->swarm==0.1.0) (0.8.2)\n",
      "Requirement already satisfied: pydantic<3,>=1.9.0 in g:\\c_pan_copy_dir\\.conda\\envs\\scanpy_env\\lib\\site-packages (from openai>=1.33.0->swarm==0.1.0) (2.10.6)\n",
      "Requirement already satisfied: sniffio in g:\\c_pan_copy_dir\\.conda\\envs\\scanpy_env\\lib\\site-packages (from openai>=1.33.0->swarm==0.1.0) (1.3.1)\n",
      "Requirement already satisfied: typing-extensions<5,>=4.11 in g:\\c_pan_copy_dir\\.conda\\envs\\scanpy_env\\lib\\site-packages (from openai>=1.33.0->swarm==0.1.0) (4.12.2)\n",
      "Requirement already satisfied: colorama in g:\\c_pan_copy_dir\\.conda\\envs\\scanpy_env\\lib\\site-packages (from tqdm->swarm==0.1.0) (0.4.6)\n",
      "Requirement already satisfied: aiohttp<4.0.0,>=3.9.1 in g:\\c_pan_copy_dir\\.conda\\envs\\scanpy_env\\lib\\site-packages (from instructor->swarm==0.1.0) (3.11.12)\n",
      "Requirement already satisfied: docstring-parser<1.0,>=0.16 in g:\\c_pan_copy_dir\\.conda\\envs\\scanpy_env\\lib\\site-packages (from instructor->swarm==0.1.0) (0.16)\n",
      "Requirement already satisfied: jinja2<4.0.0,>=3.1.4 in g:\\c_pan_copy_dir\\.conda\\envs\\scanpy_env\\lib\\site-packages (from instructor->swarm==0.1.0) (3.1.5)\n",
      "Requirement already satisfied: pydantic-core<3.0.0,>=2.18.0 in g:\\c_pan_copy_dir\\.conda\\envs\\scanpy_env\\lib\\site-packages (from instructor->swarm==0.1.0) (2.27.2)\n",
      "Requirement already satisfied: rich<14.0.0,>=13.7.0 in g:\\c_pan_copy_dir\\.conda\\envs\\scanpy_env\\lib\\site-packages (from instructor->swarm==0.1.0) (13.9.4)\n",
      "Requirement already satisfied: tenacity<10.0.0,>=9.0.0 in g:\\c_pan_copy_dir\\.conda\\envs\\scanpy_env\\lib\\site-packages (from instructor->swarm==0.1.0) (9.0.0)\n",
      "Requirement already satisfied: typer<1.0.0,>=0.9.0 in g:\\c_pan_copy_dir\\.conda\\envs\\scanpy_env\\lib\\site-packages (from instructor->swarm==0.1.0) (0.15.1)\n",
      "Requirement already satisfied: charset-normalizer<4,>=2 in g:\\c_pan_copy_dir\\.conda\\envs\\scanpy_env\\lib\\site-packages (from requests->swarm==0.1.0) (3.4.1)\n",
      "Requirement already satisfied: idna<4,>=2.5 in g:\\c_pan_copy_dir\\.conda\\envs\\scanpy_env\\lib\\site-packages (from requests->swarm==0.1.0) (3.10)\n",
      "Requirement already satisfied: urllib3<3,>=1.21.1 in g:\\c_pan_copy_dir\\.conda\\envs\\scanpy_env\\lib\\site-packages (from requests->swarm==0.1.0) (2.3.0)\n",
      "Requirement already satisfied: certifi>=2017.4.17 in g:\\c_pan_copy_dir\\.conda\\envs\\scanpy_env\\lib\\site-packages (from requests->swarm==0.1.0) (2025.1.31)\n",
      "Requirement already satisfied: cfgv>=2.0.0 in g:\\c_pan_copy_dir\\.conda\\envs\\scanpy_env\\lib\\site-packages (from pre-commit->swarm==0.1.0) (3.4.0)\n",
      "Requirement already satisfied: identify>=1.0.0 in g:\\c_pan_copy_dir\\.conda\\envs\\scanpy_env\\lib\\site-packages (from pre-commit->swarm==0.1.0) (2.6.7)\n",
      "Requirement already satisfied: nodeenv>=0.11.1 in g:\\c_pan_copy_dir\\.conda\\envs\\scanpy_env\\lib\\site-packages (from pre-commit->swarm==0.1.0) (1.9.1)\n",
      "Requirement already satisfied: pyyaml>=5.1 in g:\\c_pan_copy_dir\\.conda\\envs\\scanpy_env\\lib\\site-packages (from pre-commit->swarm==0.1.0) (6.0.2)\n",
      "Requirement already satisfied: virtualenv>=20.10.0 in g:\\c_pan_copy_dir\\.conda\\envs\\scanpy_env\\lib\\site-packages (from pre-commit->swarm==0.1.0) (20.29.2)\n",
      "Requirement already satisfied: iniconfig in g:\\c_pan_copy_dir\\.conda\\envs\\scanpy_env\\lib\\site-packages (from pytest->swarm==0.1.0) (2.0.0)\n",
      "Requirement already satisfied: packaging in g:\\c_pan_copy_dir\\.conda\\envs\\scanpy_env\\lib\\site-packages (from pytest->swarm==0.1.0) (24.2)\n",
      "Requirement already satisfied: pluggy<2,>=1.5 in g:\\c_pan_copy_dir\\.conda\\envs\\scanpy_env\\lib\\site-packages (from pytest->swarm==0.1.0) (1.5.0)\n",
      "Requirement already satisfied: aiohappyeyeballs>=2.3.0 in g:\\c_pan_copy_dir\\.conda\\envs\\scanpy_env\\lib\\site-packages (from aiohttp<4.0.0,>=3.9.1->instructor->swarm==0.1.0) (2.4.6)\n",
      "Requirement already satisfied: aiosignal>=1.1.2 in g:\\c_pan_copy_dir\\.conda\\envs\\scanpy_env\\lib\\site-packages (from aiohttp<4.0.0,>=3.9.1->instructor->swarm==0.1.0) (1.3.2)\n",
      "Requirement already satisfied: attrs>=17.3.0 in g:\\c_pan_copy_dir\\.conda\\envs\\scanpy_env\\lib\\site-packages (from aiohttp<4.0.0,>=3.9.1->instructor->swarm==0.1.0) (25.1.0)\n",
      "Requirement already satisfied: frozenlist>=1.1.1 in g:\\c_pan_copy_dir\\.conda\\envs\\scanpy_env\\lib\\site-packages (from aiohttp<4.0.0,>=3.9.1->instructor->swarm==0.1.0) (1.5.0)\n",
      "Requirement already satisfied: multidict<7.0,>=4.5 in g:\\c_pan_copy_dir\\.conda\\envs\\scanpy_env\\lib\\site-packages (from aiohttp<4.0.0,>=3.9.1->instructor->swarm==0.1.0) (6.1.0)\n",
      "Requirement already satisfied: propcache>=0.2.0 in g:\\c_pan_copy_dir\\.conda\\envs\\scanpy_env\\lib\\site-packages (from aiohttp<4.0.0,>=3.9.1->instructor->swarm==0.1.0) (0.2.1)\n",
      "Requirement already satisfied: yarl<2.0,>=1.17.0 in g:\\c_pan_copy_dir\\.conda\\envs\\scanpy_env\\lib\\site-packages (from aiohttp<4.0.0,>=3.9.1->instructor->swarm==0.1.0) (1.18.3)\n",
      "Requirement already satisfied: httpcore==1.* in g:\\c_pan_copy_dir\\.conda\\envs\\scanpy_env\\lib\\site-packages (from httpx<1,>=0.23.0->openai>=1.33.0->swarm==0.1.0) (1.0.7)\n",
      "Requirement already satisfied: h11<0.15,>=0.13 in g:\\c_pan_copy_dir\\.conda\\envs\\scanpy_env\\lib\\site-packages (from httpcore==1.*->httpx<1,>=0.23.0->openai>=1.33.0->swarm==0.1.0) (0.14.0)\n",
      "Requirement already satisfied: MarkupSafe>=2.0 in g:\\c_pan_copy_dir\\.conda\\envs\\scanpy_env\\lib\\site-packages (from jinja2<4.0.0,>=3.1.4->instructor->swarm==0.1.0) (3.0.2)\n",
      "Requirement already satisfied: annotated-types>=0.6.0 in g:\\c_pan_copy_dir\\.conda\\envs\\scanpy_env\\lib\\site-packages (from pydantic<3,>=1.9.0->openai>=1.33.0->swarm==0.1.0) (0.7.0)\n",
      "Requirement already satisfied: markdown-it-py>=2.2.0 in g:\\c_pan_copy_dir\\.conda\\envs\\scanpy_env\\lib\\site-packages (from rich<14.0.0,>=13.7.0->instructor->swarm==0.1.0) (3.0.0)\n",
      "Requirement already satisfied: pygments<3.0.0,>=2.13.0 in g:\\c_pan_copy_dir\\.conda\\envs\\scanpy_env\\lib\\site-packages (from rich<14.0.0,>=13.7.0->instructor->swarm==0.1.0) (2.18.0)\n",
      "Requirement already satisfied: click>=8.0.0 in c:\\users\\administrator\\appdata\\roaming\\python\\python312\\site-packages (from typer<1.0.0,>=0.9.0->instructor->swarm==0.1.0) (8.1.7)\n",
      "Requirement already satisfied: shellingham>=1.3.0 in g:\\c_pan_copy_dir\\.conda\\envs\\scanpy_env\\lib\\site-packages (from typer<1.0.0,>=0.9.0->instructor->swarm==0.1.0) (1.5.4)\n",
      "Requirement already satisfied: distlib<1,>=0.3.7 in g:\\c_pan_copy_dir\\.conda\\envs\\scanpy_env\\lib\\site-packages (from virtualenv>=20.10.0->pre-commit->swarm==0.1.0) (0.3.9)\n",
      "Requirement already satisfied: filelock<4,>=3.12.2 in g:\\c_pan_copy_dir\\.conda\\envs\\scanpy_env\\lib\\site-packages (from virtualenv>=20.10.0->pre-commit->swarm==0.1.0) (3.17.0)\n",
      "Requirement already satisfied: platformdirs<5,>=3.9.1 in g:\\c_pan_copy_dir\\.conda\\envs\\scanpy_env\\lib\\site-packages (from virtualenv>=20.10.0->pre-commit->swarm==0.1.0) (4.3.6)\n",
      "Requirement already satisfied: mdurl~=0.1 in g:\\c_pan_copy_dir\\.conda\\envs\\scanpy_env\\lib\\site-packages (from markdown-it-py>=2.2.0->rich<14.0.0,>=13.7.0->instructor->swarm==0.1.0) (0.1.2)\n"
     ]
    },
    {
     "name": "stderr",
     "output_type": "stream",
     "text": [
      "  Running command git clone --filter=blob:none --quiet https://github.com/openai/swarm.git 'C:\\Users\\Administrator\\AppData\\Local\\Temp\\pip-req-build-lzrf9g1x'\n"
     ]
    },
    {
     "name": "stdout",
     "output_type": "stream",
     "text": [
      "Collecting azure-search-documents==11.6.0b6\n",
      "  Downloading azure_search_documents-11.6.0b6-py3-none-any.whl.metadata (22 kB)\n",
      "Collecting azure-core>=1.28.0 (from azure-search-documents==11.6.0b6)\n",
      "  Downloading azure_core-1.32.0-py3-none-any.whl.metadata (39 kB)\n",
      "Collecting azure-common>=1.1 (from azure-search-documents==11.6.0b6)\n",
      "  Downloading azure_common-1.1.28-py2.py3-none-any.whl.metadata (5.0 kB)\n",
      "Collecting isodate>=0.6.0 (from azure-search-documents==11.6.0b6)\n",
      "  Downloading isodate-0.7.2-py3-none-any.whl.metadata (11 kB)\n",
      "Requirement already satisfied: typing-extensions>=4.6.0 in g:\\c_pan_copy_dir\\.conda\\envs\\scanpy_env\\lib\\site-packages (from azure-search-documents==11.6.0b6) (4.12.2)\n",
      "Requirement already satisfied: requests>=2.21.0 in g:\\c_pan_copy_dir\\.conda\\envs\\scanpy_env\\lib\\site-packages (from azure-core>=1.28.0->azure-search-documents==11.6.0b6) (2.32.3)\n",
      "Requirement already satisfied: six>=1.11.0 in g:\\c_pan_copy_dir\\.conda\\envs\\scanpy_env\\lib\\site-packages (from azure-core>=1.28.0->azure-search-documents==11.6.0b6) (1.17.0)\n",
      "Requirement already satisfied: charset-normalizer<4,>=2 in g:\\c_pan_copy_dir\\.conda\\envs\\scanpy_env\\lib\\site-packages (from requests>=2.21.0->azure-core>=1.28.0->azure-search-documents==11.6.0b6) (3.4.1)\n",
      "Requirement already satisfied: idna<4,>=2.5 in g:\\c_pan_copy_dir\\.conda\\envs\\scanpy_env\\lib\\site-packages (from requests>=2.21.0->azure-core>=1.28.0->azure-search-documents==11.6.0b6) (3.10)\n",
      "Requirement already satisfied: urllib3<3,>=1.21.1 in g:\\c_pan_copy_dir\\.conda\\envs\\scanpy_env\\lib\\site-packages (from requests>=2.21.0->azure-core>=1.28.0->azure-search-documents==11.6.0b6) (2.3.0)\n",
      "Requirement already satisfied: certifi>=2017.4.17 in g:\\c_pan_copy_dir\\.conda\\envs\\scanpy_env\\lib\\site-packages (from requests>=2.21.0->azure-core>=1.28.0->azure-search-documents==11.6.0b6) (2025.1.31)\n",
      "Downloading azure_search_documents-11.6.0b6-py3-none-any.whl (329 kB)\n",
      "Downloading azure_common-1.1.28-py2.py3-none-any.whl (14 kB)\n",
      "Downloading azure_core-1.32.0-py3-none-any.whl (198 kB)\n",
      "Downloading isodate-0.7.2-py3-none-any.whl (22 kB)\n",
      "Installing collected packages: azure-common, isodate, azure-core, azure-search-documents\n",
      "Successfully installed azure-common-1.1.28 azure-core-1.32.0 azure-search-documents-11.6.0b6 isodate-0.7.2\n"
     ]
    }
   ],
   "source": [
    "!pip install git+https://github.com/openai/swarm.git\n",
    "!pip install azure-search-documents==11.6.0b6"
   ]
  },
  {
   "cell_type": "code",
   "execution_count": 9,
   "metadata": {},
   "outputs": [],
   "source": [
    "from swarm import Swarm, Agent\n",
    "from azure.search.documents import SearchClient\n",
    "from azure.core.credentials import AzureKeyCredential\n",
    "from openai import AzureOpenAI\n",
    "import json\n",
    "import re\n",
    "import os"
   ]
  },
  {
   "cell_type": "code",
   "execution_count": 10,
   "metadata": {},
   "outputs": [],
   "source": [
    "# Azure OpenAI API configuration\n",
    "aoai_client = AzureOpenAI(\n",
    "    # api_key=os.getenv(\"AZURE_OPENAI_API_KEY\"),  \n",
    "    # api_version=\"2024-09-01-preview\",\n",
    "    # azure_endpoint=os.getenv(\"AZURE_OPENAI_ENDPOINT\")\n",
    ")"
   ]
  },
  {
   "cell_type": "code",
   "execution_count": null,
   "metadata": {},
   "outputs": [],
   "source": [
    "# Azure AI Search configuration\n",
    "search_endpoint = os.getenv(\"AZURE_SEARCH_SERVICE_ENDPOINT\")    # Replace with your Azure AI Search endpoint\n",
    "search_api_key = os.getenv(\"AZURE_SEARCH_ADMIN_KEY\")      # Replace with your Azure AI Search API key\n",
    "index_name = \"azure-search-docs\"            # Replace with your Azure AI Search index name\n",
    "\n",
    "# Initialize the Azure AI Search client\n",
    "credential = AzureKeyCredential(search_api_key)\n",
    "search_client = SearchClient(\n",
    "    endpoint=search_endpoint,\n",
    "    index_name=index_name,\n",
    "    credential=credential\n",
    ")"
   ]
  },
  {
   "cell_type": "code",
   "execution_count": 14,
   "metadata": {},
   "outputs": [],
   "source": [
    "# Initialize Swarm client with Azure OpenAI client\n",
    "swarm_client = Swarm(client=aoai_client)"
   ]
  },
  {
   "cell_type": "code",
   "execution_count": null,
   "metadata": {},
   "outputs": [
    {
     "name": "stdout",
     "output_type": "stream",
     "text": [
      "Agent B summoned,  \n",
      "Ready to lend you a hand.  \n",
      "Questions shall be solved.\n"
     ]
    }
   ],
   "source": [
    "def transfer_to_agent_b():\n",
    "    return agent_b\n",
    "\n",
    "\n",
    "agent_a = Agent(\n",
    "    name=\"Agent A\",\n",
    "    instructions=\"You are a helpful agent.\",\n",
    "    functions=[transfer_to_agent_b],\n",
    ")\n",
    "\n",
    "agent_b = Agent(\n",
    "    name=\"Agent B\",\n",
    "    instructions=\"Only speak in Haikus.\",\n",
    ")\n",
    "\n",
    "response = swarm_client.run(\n",
    "    agent=agent_a,\n",
    "    messages=[{\"role\": \"user\", \"content\": \"I want to talk to agent B.\"}],\n",
    ")\n",
    "\n",
    "print(response.messages[-1][\"content\"])"
   ]
  }
 ],
 "metadata": {
  "kernelspec": {
   "display_name": "Python 3",
   "language": "python",
   "name": "python3"
  },
  "language_info": {
   "codemirror_mode": {
    "name": "ipython",
    "version": 3
   },
   "file_extension": ".py",
   "mimetype": "text/x-python",
   "name": "python",
   "nbconvert_exporter": "python",
   "pygments_lexer": "ipython3",
   "version": "3.12.8"
  }
 },
 "nbformat": 4,
 "nbformat_minor": 2
}
